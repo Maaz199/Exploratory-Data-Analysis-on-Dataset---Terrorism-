{
  "cells": [
    {
      "cell_type": "code",
      "source": [
        "import numpy as np\n",
        "import pandas as pd\n",
        "import matplotlib.pyplot as plt\n",
        "import seaborn as sns"
      ],
      "outputs": [],
      "execution_count": null,
      "metadata": {
        "_cell_guid": "b1076dfc-b9ad-4769-8c92-a6c4dae69d19",
        "_uuid": "8f2839f25d086af736a60e9eeb907d3b93b6e0e5",
        "execution": {
          "iopub.execute_input": "2021-09-16T08:29:09.237133Z",
          "iopub.status.busy": "2021-09-16T08:29:09.236416Z",
          "iopub.status.idle": "2021-09-16T08:29:10.212465Z",
          "shell.execute_reply": "2021-09-16T08:29:10.211630Z",
          "shell.execute_reply.started": "2021-09-16T07:39:53.974745Z"
        },
        "papermill": {
          "duration": 1.026633,
          "end_time": "2021-09-16T08:29:10.212643",
          "exception": false,
          "start_time": "2021-09-16T08:29:09.186010",
          "status": "completed"
        },
        "tags": []
      },
      "id": "4df20bce"
    },
    {
      "cell_type": "code",
      "source": [
        "# Storing Data in DataFrame\n",
        "terrorism = pd.read_csv(r\"../input/global-terrorist/globalterrorismdb_0718dist.csv\",encoding='ISO-8859-1')"
      ],
      "outputs": [],
      "execution_count": null,
      "metadata": {
        "execution": {
          "iopub.execute_input": "2021-09-16T08:29:10.296476Z",
          "iopub.status.busy": "2021-09-16T08:29:10.295756Z",
          "iopub.status.idle": "2021-09-16T08:29:15.437984Z",
          "shell.execute_reply": "2021-09-16T08:29:15.437367Z",
          "shell.execute_reply.started": "2021-09-16T07:40:04.346047Z"
        },
        "papermill": {
          "duration": 5.184394,
          "end_time": "2021-09-16T08:29:15.438160",
          "exception": false,
          "start_time": "2021-09-16T08:29:10.253766",
          "status": "completed"
        },
        "tags": []
      },
      "id": "66b3656d"
    },
    {
      "cell_type": "code",
      "source": [
        "terrorism.head()"
      ],
      "outputs": [],
      "execution_count": null,
      "metadata": {
        "execution": {
          "iopub.execute_input": "2021-09-16T08:29:15.529221Z",
          "iopub.status.busy": "2021-09-16T08:29:15.528524Z",
          "iopub.status.idle": "2021-09-16T08:29:15.551009Z",
          "shell.execute_reply": "2021-09-16T08:29:15.550495Z",
          "shell.execute_reply.started": "2021-09-16T07:40:10.21452Z"
        },
        "papermill": {
          "duration": 0.074885,
          "end_time": "2021-09-16T08:29:15.551181",
          "exception": false,
          "start_time": "2021-09-16T08:29:15.476296",
          "status": "completed"
        },
        "tags": []
      },
      "id": "31169050"
    },
    {
      "cell_type": "code",
      "source": [
        "terrorism.info()"
      ],
      "outputs": [],
      "execution_count": null,
      "metadata": {
        "execution": {
          "iopub.execute_input": "2021-09-16T08:29:15.653916Z",
          "iopub.status.busy": "2021-09-16T08:29:15.653247Z",
          "iopub.status.idle": "2021-09-16T08:29:15.656326Z",
          "shell.execute_reply": "2021-09-16T08:29:15.656931Z",
          "shell.execute_reply.started": "2021-09-16T07:40:10.27307Z"
        },
        "papermill": {
          "duration": 0.066068,
          "end_time": "2021-09-16T08:29:15.657149",
          "exception": false,
          "start_time": "2021-09-16T08:29:15.591081",
          "status": "completed"
        },
        "tags": []
      },
      "id": "e29695be"
    },
    {
      "cell_type": "markdown",
      "source": [
        "**There are 135 columns in the data.We have to look at the data carefully.And we will select only those colums which will be useful in our Analysis.**"
      ],
      "metadata": {
        "papermill": {
          "duration": 0.038273,
          "end_time": "2021-09-16T08:29:15.734148",
          "exception": false,
          "start_time": "2021-09-16T08:29:15.695875",
          "status": "completed"
        },
        "tags": []
      },
      "id": "a60c14af"
    },
    {
      "cell_type": "code",
      "source": [
        "terrorism.shape"
      ],
      "outputs": [],
      "execution_count": null,
      "metadata": {
        "execution": {
          "iopub.execute_input": "2021-09-16T08:29:15.818452Z",
          "iopub.status.busy": "2021-09-16T08:29:15.817524Z",
          "iopub.status.idle": "2021-09-16T08:29:15.821817Z",
          "shell.execute_reply": "2021-09-16T08:29:15.821204Z",
          "shell.execute_reply.started": "2021-09-16T07:41:22.173223Z"
        },
        "papermill": {
          "duration": 0.049133,
          "end_time": "2021-09-16T08:29:15.822008",
          "exception": false,
          "start_time": "2021-09-16T08:29:15.772875",
          "status": "completed"
        },
        "tags": []
      },
      "id": "f44bc4b3"
    },
    {
      "cell_type": "code",
      "source": [
        "pd.set_option('display.max_columns', 135)"
      ],
      "outputs": [],
      "execution_count": null,
      "metadata": {
        "execution": {
          "iopub.execute_input": "2021-09-16T08:29:15.907013Z",
          "iopub.status.busy": "2021-09-16T08:29:15.906211Z",
          "iopub.status.idle": "2021-09-16T08:29:15.909037Z",
          "shell.execute_reply": "2021-09-16T08:29:15.908548Z",
          "shell.execute_reply.started": "2021-09-16T07:41:47.376653Z"
        },
        "papermill": {
          "duration": 0.0469,
          "end_time": "2021-09-16T08:29:15.909196",
          "exception": false,
          "start_time": "2021-09-16T08:29:15.862296",
          "status": "completed"
        },
        "tags": []
      },
      "id": "0a824160"
    },
    {
      "cell_type": "code",
      "source": [
        "terrorism.head()"
      ],
      "outputs": [],
      "execution_count": null,
      "metadata": {
        "execution": {
          "iopub.execute_input": "2021-09-16T08:29:15.998170Z",
          "iopub.status.busy": "2021-09-16T08:29:15.997075Z",
          "iopub.status.idle": "2021-09-16T08:29:16.088628Z",
          "shell.execute_reply": "2021-09-16T08:29:16.089143Z",
          "shell.execute_reply.started": "2021-09-16T07:42:03.622873Z"
        },
        "papermill": {
          "duration": 0.140929,
          "end_time": "2021-09-16T08:29:16.089311",
          "exception": false,
          "start_time": "2021-09-16T08:29:15.948382",
          "status": "completed"
        },
        "tags": []
      },
      "id": "27541788"
    },
    {
      "cell_type": "code",
      "source": [
        "pd.options.display.max_rows = None"
      ],
      "outputs": [],
      "execution_count": null,
      "metadata": {
        "execution": {
          "iopub.execute_input": "2021-09-16T08:29:16.175336Z",
          "iopub.status.busy": "2021-09-16T08:29:16.174602Z",
          "iopub.status.idle": "2021-09-16T08:29:16.178067Z",
          "shell.execute_reply": "2021-09-16T08:29:16.178639Z",
          "shell.execute_reply.started": "2021-09-16T07:43:08.882132Z"
        },
        "papermill": {
          "duration": 0.048404,
          "end_time": "2021-09-16T08:29:16.178852",
          "exception": false,
          "start_time": "2021-09-16T08:29:16.130448",
          "status": "completed"
        },
        "tags": []
      },
      "id": "669ca99d"
    },
    {
      "cell_type": "markdown",
      "source": [
        "**Rename some columns name which doesnt look right**"
      ],
      "metadata": {
        "papermill": {
          "duration": 0.041246,
          "end_time": "2021-09-16T08:29:16.261197",
          "exception": false,
          "start_time": "2021-09-16T08:29:16.219951",
          "status": "completed"
        },
        "tags": []
      },
      "id": "55df5866"
    },
    {
      "cell_type": "code",
      "source": [
        "Map={'iyear':'Year','imonth':'Month','city':'City','iday':'Day','country_txt':'Country','region_txt':'Region',\n",
        "       'attacktype1_txt':'AttackType', 'target1':'Target','nkill':'Killed','nwound':'Wounded','summary':'Summary','gname':'Group',\n",
        "       'targtype1_txt':'Target_type','weaptype1_txt':'Weapon_type','motive':'Motive'}\n",
        "\n",
        "terrorism.rename(Map , inplace = True , axis = 1)"
      ],
      "outputs": [],
      "execution_count": null,
      "metadata": {
        "execution": {
          "iopub.execute_input": "2021-09-16T08:29:16.347137Z",
          "iopub.status.busy": "2021-09-16T08:29:16.346441Z",
          "iopub.status.idle": "2021-09-16T08:29:16.352405Z",
          "shell.execute_reply": "2021-09-16T08:29:16.352958Z",
          "shell.execute_reply.started": "2021-09-16T07:43:54.484015Z"
        },
        "papermill": {
          "duration": 0.050765,
          "end_time": "2021-09-16T08:29:16.353147",
          "exception": false,
          "start_time": "2021-09-16T08:29:16.302382",
          "status": "completed"
        },
        "tags": []
      },
      "id": "e0fb8643"
    },
    {
      "cell_type": "code",
      "source": [
        "terrorism=terrorism[['Year','Month','Day','Country','Region','City','latitude','longitude','AttackType','Killed','Wounded','Target','Group','Target_type','Weapon_type']]\n",
        "terrorism.head()"
      ],
      "outputs": [],
      "execution_count": null,
      "metadata": {
        "execution": {
          "iopub.execute_input": "2021-09-16T08:29:16.438396Z",
          "iopub.status.busy": "2021-09-16T08:29:16.437714Z",
          "iopub.status.idle": "2021-09-16T08:29:16.474077Z",
          "shell.execute_reply": "2021-09-16T08:29:16.474556Z",
          "shell.execute_reply.started": "2021-09-16T07:44:07.722052Z"
        },
        "papermill": {
          "duration": 0.080507,
          "end_time": "2021-09-16T08:29:16.474730",
          "exception": false,
          "start_time": "2021-09-16T08:29:16.394223",
          "status": "completed"
        },
        "tags": []
      },
      "id": "1497b479"
    },
    {
      "cell_type": "code",
      "source": [
        "terrorism.isnull().sum()"
      ],
      "outputs": [],
      "execution_count": null,
      "metadata": {
        "execution": {
          "iopub.execute_input": "2021-09-16T08:29:16.718310Z",
          "iopub.status.busy": "2021-09-16T08:29:16.717357Z",
          "iopub.status.idle": "2021-09-16T08:29:16.728677Z",
          "shell.execute_reply": "2021-09-16T08:29:16.728161Z",
          "shell.execute_reply.started": "2021-09-16T07:44:29.845608Z"
        },
        "papermill": {
          "duration": 0.21281,
          "end_time": "2021-09-16T08:29:16.728820",
          "exception": false,
          "start_time": "2021-09-16T08:29:16.516010",
          "status": "completed"
        },
        "tags": []
      },
      "id": "87ba7af6"
    },
    {
      "cell_type": "code",
      "source": [
        "terrorism.dropna(inplace=True , axis=0)"
      ],
      "outputs": [],
      "execution_count": null,
      "metadata": {
        "execution": {
          "iopub.execute_input": "2021-09-16T08:29:16.973619Z",
          "iopub.status.busy": "2021-09-16T08:29:16.972181Z",
          "iopub.status.idle": "2021-09-16T08:29:17.000416Z",
          "shell.execute_reply": "2021-09-16T08:29:17.000893Z",
          "shell.execute_reply.started": "2021-09-16T07:45:01.720306Z"
        },
        "papermill": {
          "duration": 0.230625,
          "end_time": "2021-09-16T08:29:17.001096",
          "exception": false,
          "start_time": "2021-09-16T08:29:16.770471",
          "status": "completed"
        },
        "tags": []
      },
      "id": "4ea30692"
    },
    {
      "cell_type": "markdown",
      "source": [
        "# Exploratory Data Analysis"
      ],
      "metadata": {
        "papermill": {
          "duration": 0.041889,
          "end_time": "2021-09-16T08:29:17.084585",
          "exception": false,
          "start_time": "2021-09-16T08:29:17.042696",
          "status": "completed"
        },
        "tags": []
      },
      "id": "a6d97182"
    },
    {
      "cell_type": "code",
      "source": [
        "terrorism.groupby(\"Country\")[\"Killed\"].sum().sort_values(ascending = False).head(20)"
      ],
      "outputs": [],
      "execution_count": null,
      "metadata": {
        "execution": {
          "iopub.execute_input": "2021-09-16T08:29:17.185109Z",
          "iopub.status.busy": "2021-09-16T08:29:17.184103Z",
          "iopub.status.idle": "2021-09-16T08:29:17.198080Z",
          "shell.execute_reply": "2021-09-16T08:29:17.198572Z",
          "shell.execute_reply.started": "2021-09-16T07:46:15.952313Z"
        },
        "papermill": {
          "duration": 0.072151,
          "end_time": "2021-09-16T08:29:17.198739",
          "exception": false,
          "start_time": "2021-09-16T08:29:17.126588",
          "status": "completed"
        },
        "tags": []
      },
      "id": "1f0cfa62"
    },
    {
      "cell_type": "markdown",
      "source": [
        "*Try to find out in which country maximum people have been killed*"
      ],
      "metadata": {
        "papermill": {
          "duration": 0.041942,
          "end_time": "2021-09-16T08:29:17.282493",
          "exception": false,
          "start_time": "2021-09-16T08:29:17.240551",
          "status": "completed"
        },
        "tags": []
      },
      "id": "da0a7cb8"
    },
    {
      "cell_type": "code",
      "source": [
        "import plotly.express as px\n",
        "top_killed_country = terrorism.groupby(\"Country\")[\"Killed\"].sum().sort_values(ascending = False).to_frame().reset_index().head(25)\n",
        "px.bar(data_frame=top_killed_country,x = 'Country',y = 'Killed',color='Killed',template='plotly_dark')"
      ],
      "outputs": [],
      "execution_count": null,
      "metadata": {
        "execution": {
          "iopub.execute_input": "2021-09-16T08:29:17.370703Z",
          "iopub.status.busy": "2021-09-16T08:29:17.369988Z",
          "iopub.status.idle": "2021-09-16T08:29:19.973608Z",
          "shell.execute_reply": "2021-09-16T08:29:19.972965Z",
          "shell.execute_reply.started": "2021-09-16T07:47:36.734808Z"
        },
        "papermill": {
          "duration": 2.649049,
          "end_time": "2021-09-16T08:29:19.973748",
          "exception": false,
          "start_time": "2021-09-16T08:29:17.324699",
          "status": "completed"
        },
        "tags": []
      },
      "id": "98f9b65a"
    },
    {
      "cell_type": "code",
      "source": [
        "terrorism['Year'].value_counts(dropna = False).sort_index()"
      ],
      "outputs": [],
      "execution_count": null,
      "metadata": {
        "execution": {
          "iopub.execute_input": "2021-09-16T08:29:20.065272Z",
          "iopub.status.busy": "2021-09-16T08:29:20.064603Z",
          "iopub.status.idle": "2021-09-16T08:29:20.074951Z",
          "shell.execute_reply": "2021-09-16T08:29:20.075602Z",
          "shell.execute_reply.started": "2021-09-16T06:56:17.590521Z"
        },
        "papermill": {
          "duration": 0.057816,
          "end_time": "2021-09-16T08:29:20.075794",
          "exception": false,
          "start_time": "2021-09-16T08:29:20.017978",
          "status": "completed"
        },
        "tags": []
      },
      "id": "c70112c9"
    },
    {
      "cell_type": "markdown",
      "source": [
        "**Iraq** , **Afghanistan** , **Pakistan** is the top three countries in which Most of the peoples have been killed due to terrorism."
      ],
      "metadata": {
        "papermill": {
          "duration": 0.043258,
          "end_time": "2021-09-16T08:29:20.163207",
          "exception": false,
          "start_time": "2021-09-16T08:29:20.119949",
          "status": "completed"
        },
        "tags": []
      },
      "id": "5c59a42a"
    },
    {
      "cell_type": "code",
      "source": [
        "top_killed_city = terrorism.groupby(\"City\")[\"Killed\"].sum().sort_values(ascending = False).to_frame().reset_index().head(25)\n",
        "px.bar(data_frame=top_killed_city,x = 'City',y = 'Killed',color='Killed')"
      ],
      "outputs": [],
      "execution_count": null,
      "metadata": {
        "execution": {
          "iopub.execute_input": "2021-09-16T08:29:20.253149Z",
          "iopub.status.busy": "2021-09-16T08:29:20.252495Z",
          "iopub.status.idle": "2021-09-16T08:29:20.420136Z",
          "shell.execute_reply": "2021-09-16T08:29:20.419569Z",
          "shell.execute_reply.started": "2021-09-16T07:48:45.872975Z"
        },
        "papermill": {
          "duration": 0.213627,
          "end_time": "2021-09-16T08:29:20.420289",
          "exception": false,
          "start_time": "2021-09-16T08:29:20.206662",
          "status": "completed"
        },
        "tags": []
      },
      "id": "1eef2202"
    },
    {
      "cell_type": "markdown",
      "source": [
        "**Baghdad** is the city of *Iran* , **Mosul** is also the city of *Iran* and **Mogadishu** is the city of *Somalia*.These are top 3 cities in which peoples killed because of terrorism."
      ],
      "metadata": {
        "papermill": {
          "duration": 0.044002,
          "end_time": "2021-09-16T08:29:20.508939",
          "exception": false,
          "start_time": "2021-09-16T08:29:20.464937",
          "status": "completed"
        },
        "tags": []
      },
      "id": "047b7f9b"
    },
    {
      "cell_type": "markdown",
      "source": [
        "# Trying to find out which group was committing terrorism in these Countries."
      ],
      "metadata": {
        "papermill": {
          "duration": 0.045181,
          "end_time": "2021-09-16T08:29:20.598730",
          "exception": false,
          "start_time": "2021-09-16T08:29:20.553549",
          "status": "completed"
        },
        "tags": []
      },
      "id": "df902488"
    },
    {
      "cell_type": "code",
      "source": [
        "terrorism[(terrorism[\"Country\"] == 'Iran') | (terrorism[\"Country\"] == 'Somalia')][\"Group\"].value_counts().head()"
      ],
      "outputs": [],
      "execution_count": null,
      "metadata": {
        "execution": {
          "iopub.execute_input": "2021-09-16T08:29:20.741769Z",
          "iopub.status.busy": "2021-09-16T08:29:20.716974Z",
          "iopub.status.idle": "2021-09-16T08:29:20.753178Z",
          "shell.execute_reply": "2021-09-16T08:29:20.752563Z",
          "shell.execute_reply.started": "2021-09-16T07:51:28.607727Z"
        },
        "papermill": {
          "duration": 0.110174,
          "end_time": "2021-09-16T08:29:20.753334",
          "exception": false,
          "start_time": "2021-09-16T08:29:20.643160",
          "status": "completed"
        },
        "tags": []
      },
      "id": "2ae016be"
    },
    {
      "cell_type": "markdown",
      "source": [
        "1. The group that is carrying out the most terrorism in **Somalia** is AL- Shabaab and Mujahideen Youth Movement (MYM) Group.\n",
        "1. The group that is carrying out the most terrorism in **Iran** is Mujahedin-e Khalq (MEK) and Arab Separatists Group."
      ],
      "metadata": {
        "papermill": {
          "duration": 0.044681,
          "end_time": "2021-09-16T08:29:20.843462",
          "exception": false,
          "start_time": "2021-09-16T08:29:20.798781",
          "status": "completed"
        },
        "tags": []
      },
      "id": "c7ee32ad"
    },
    {
      "cell_type": "code",
      "source": [
        "top_year = terrorism[\"Year\"].value_counts().sort_index()\n",
        "top_year.plot.bar(figsize = (16,8),title = 'Number Of Terrorist Activities Each Year' , xlabel = 'Year' , ylabel = \"Number of Attacks each year\" , color = \"brown\")\n",
        "plt.xticks(rotation = 65)\n",
        "plt.show()"
      ],
      "outputs": [],
      "execution_count": null,
      "metadata": {
        "execution": {
          "iopub.execute_input": "2021-09-16T08:29:20.941682Z",
          "iopub.status.busy": "2021-09-16T08:29:20.941009Z",
          "iopub.status.idle": "2021-09-16T08:29:21.521528Z",
          "shell.execute_reply": "2021-09-16T08:29:21.520930Z",
          "shell.execute_reply.started": "2021-09-16T07:53:11.563716Z"
        },
        "papermill": {
          "duration": 0.633116,
          "end_time": "2021-09-16T08:29:21.521673",
          "exception": false,
          "start_time": "2021-09-16T08:29:20.888557",
          "status": "completed"
        },
        "tags": []
      },
      "id": "1e49b721"
    },
    {
      "cell_type": "markdown",
      "source": [
        "**The highest level of *terrorism* occurred in 2014 , 2015 , 2016.**"
      ],
      "metadata": {
        "papermill": {
          "duration": 0.047666,
          "end_time": "2021-09-16T08:29:21.615185",
          "exception": false,
          "start_time": "2021-09-16T08:29:21.567519",
          "status": "completed"
        },
        "tags": []
      },
      "id": "845c0110"
    },
    {
      "cell_type": "markdown",
      "source": [
        "* Trying to find out which country witnessed the most terrorism in 2014 And which Weapon Type Mostly Used In these Countries?"
      ],
      "metadata": {
        "papermill": {
          "duration": 0.0456,
          "end_time": "2021-09-16T08:29:21.706853",
          "exception": false,
          "start_time": "2021-09-16T08:29:21.661253",
          "status": "completed"
        },
        "tags": []
      },
      "id": "222d6d3b"
    },
    {
      "cell_type": "code",
      "source": [
        "# replace vehicle variable.\n",
        "terrorism = terrorism.replace(\"Vehicle (not to include vehicle-borne explosives, i.e., car or truck bombs)\" , \"Vehicle\")\n",
        "\n",
        "weapon_type_used_in_2014 = terrorism[terrorism[\"Year\"]==2014][\"Weapon_type\"].value_counts()\n",
        "weapon_type_used_in_2014"
      ],
      "outputs": [],
      "execution_count": null,
      "metadata": {
        "execution": {
          "iopub.execute_input": "2021-09-16T08:29:21.805862Z",
          "iopub.status.busy": "2021-09-16T08:29:21.805175Z",
          "iopub.status.idle": "2021-09-16T08:29:21.917414Z",
          "shell.execute_reply": "2021-09-16T08:29:21.916703Z",
          "shell.execute_reply.started": "2021-09-16T07:55:10.168794Z"
        },
        "papermill": {
          "duration": 0.164246,
          "end_time": "2021-09-16T08:29:21.917562",
          "exception": false,
          "start_time": "2021-09-16T08:29:21.753316",
          "status": "completed"
        },
        "tags": []
      },
      "id": "897c0161"
    },
    {
      "cell_type": "markdown",
      "source": [
        "**In 2014 the most explosive material was used to carry out terrorism**"
      ],
      "metadata": {
        "papermill": {
          "duration": 0.046235,
          "end_time": "2021-09-16T08:29:22.010233",
          "exception": false,
          "start_time": "2021-09-16T08:29:21.963998",
          "status": "completed"
        },
        "tags": []
      },
      "id": "65472a61"
    },
    {
      "cell_type": "code",
      "source": [
        "most_effect_country_2014 = terrorism[terrorism[\"Year\"]==2014][\"Country\"].value_counts().head(10)\n",
        "most_effect_country_2014.plot.bar(figsize = (10,6) , title = ('Most Effected Countries IN 2014 Attacks') , xlabel = 'Country' , color = 'red')\n",
        "plt.ylabel(\"No of Attacks\")\n",
        "plt.show()"
      ],
      "outputs": [],
      "execution_count": null,
      "metadata": {
        "execution": {
          "iopub.execute_input": "2021-09-16T08:29:22.143213Z",
          "iopub.status.busy": "2021-09-16T08:29:22.110850Z",
          "iopub.status.idle": "2021-09-16T08:29:22.316257Z",
          "shell.execute_reply": "2021-09-16T08:29:22.316786Z",
          "shell.execute_reply.started": "2021-09-16T07:55:49.48626Z"
        },
        "papermill": {
          "duration": 0.26004,
          "end_time": "2021-09-16T08:29:22.316960",
          "exception": false,
          "start_time": "2021-09-16T08:29:22.056920",
          "status": "completed"
        },
        "tags": []
      },
      "id": "2cf7505a"
    },
    {
      "cell_type": "markdown",
      "source": [
        "**Iraq , Pakistan , Afghanistan** is the country most affected by the terrorist attack in 2014."
      ],
      "metadata": {
        "papermill": {
          "duration": 0.062382,
          "end_time": "2021-09-16T08:29:22.427090",
          "exception": false,
          "start_time": "2021-09-16T08:29:22.364708",
          "status": "completed"
        },
        "tags": []
      },
      "id": "1e43546c"
    },
    {
      "cell_type": "markdown",
      "source": [
        "# Viusalize the 2014 Year terrorist Attack City Wise In the Geographical Map."
      ],
      "metadata": {
        "papermill": {
          "duration": 0.048751,
          "end_time": "2021-09-16T08:29:22.536240",
          "exception": false,
          "start_time": "2021-09-16T08:29:22.487489",
          "status": "completed"
        },
        "tags": []
      },
      "id": "a193e270"
    },
    {
      "cell_type": "code",
      "source": [
        "import folium\n",
        "from folium.plugins import MarkerCluster\n",
        "year=terrorism[terrorism['Year']==2014]\n",
        "mapData=year.loc[:,'City':'longitude']\n",
        "mapData=mapData.dropna().values.tolist()\n",
        "\n",
        "map = folium.Map(location = [0, 50], tiles='CartoDB positron', zoom_start=2) \n",
        "# clustered marker\n",
        "markerCluster = folium.plugins.MarkerCluster().add_to(map)\n",
        "for i in range(0, len(mapData)):\n",
        "    folium.Marker(location=[mapData[i][1],mapData[i][2]],\n",
        "                  popup = mapData[i][0]).add_to(markerCluster)\n",
        "map"
      ],
      "outputs": [],
      "execution_count": null,
      "metadata": {
        "execution": {
          "iopub.execute_input": "2021-09-16T08:29:22.640283Z",
          "iopub.status.busy": "2021-09-16T08:29:22.639340Z",
          "iopub.status.idle": "2021-09-16T08:29:48.978414Z",
          "shell.execute_reply": "2021-09-16T08:29:48.745489Z",
          "shell.execute_reply.started": "2021-09-16T07:57:00.290867Z"
        },
        "papermill": {
          "duration": 26.394894,
          "end_time": "2021-09-16T08:29:48.978590",
          "exception": false,
          "start_time": "2021-09-16T08:29:22.583696",
          "status": "completed"
        },
        "tags": []
      },
      "id": "3737ca2c"
    },
    {
      "cell_type": "markdown",
      "source": [
        "# Terrorist Activities Region Wise Each Year."
      ],
      "metadata": {
        "papermill": {
          "duration": 0.354302,
          "end_time": "2021-09-16T08:29:49.696571",
          "exception": false,
          "start_time": "2021-09-16T08:29:49.342269",
          "status": "completed"
        },
        "tags": []
      },
      "id": "ef3f9e88"
    },
    {
      "cell_type": "code",
      "source": [
        "pd.crosstab(terrorism.Year, terrorism.Region).plot(kind='area',figsize=(15,6) , \n",
        "                                                   title = ('Terrorist Activities by Region in each Year'))\n",
        "plt.ylabel('Number of Attacks')\n",
        "plt.show()"
      ],
      "outputs": [],
      "execution_count": null,
      "metadata": {
        "execution": {
          "iopub.execute_input": "2021-09-16T08:29:50.406135Z",
          "iopub.status.busy": "2021-09-16T08:29:50.405450Z",
          "iopub.status.idle": "2021-09-16T08:29:50.795561Z",
          "shell.execute_reply": "2021-09-16T08:29:50.796076Z",
          "shell.execute_reply.started": "2021-09-16T07:57:42.289953Z"
        },
        "papermill": {
          "duration": 0.749765,
          "end_time": "2021-09-16T08:29:50.796243",
          "exception": false,
          "start_time": "2021-09-16T08:29:50.046478",
          "status": "completed"
        },
        "tags": []
      },
      "id": "42bf778f"
    },
    {
      "cell_type": "markdown",
      "source": [
        "**Middle East** and **North Africa** and **South Asia** shows the highest terrorist attack in these Regions"
      ],
      "metadata": {
        "papermill": {
          "duration": 0.352926,
          "end_time": "2021-09-16T08:29:51.503446",
          "exception": false,
          "start_time": "2021-09-16T08:29:51.150520",
          "status": "completed"
        },
        "tags": []
      },
      "id": "57278298"
    },
    {
      "cell_type": "code",
      "source": [
        "att_typ = terrorism[\"AttackType\"].value_counts()\n",
        "att_typ.plot.bar(figsize = (10,6) , title = \"Attack_Types\" , xlabel = 'Attack' , ylabel = 'No of Attack')"
      ],
      "outputs": [],
      "execution_count": null,
      "metadata": {
        "execution": {
          "iopub.execute_input": "2021-09-16T08:29:52.249558Z",
          "iopub.status.busy": "2021-09-16T08:29:52.216040Z",
          "iopub.status.idle": "2021-09-16T08:29:52.542185Z",
          "shell.execute_reply": "2021-09-16T08:29:52.541645Z",
          "shell.execute_reply.started": "2021-09-16T07:58:37.79946Z"
        },
        "papermill": {
          "duration": 0.683925,
          "end_time": "2021-09-16T08:29:52.542338",
          "exception": false,
          "start_time": "2021-09-16T08:29:51.858413",
          "status": "completed"
        },
        "tags": []
      },
      "id": "b8857c97"
    },
    {
      "cell_type": "code",
      "source": [
        "terrorism['Casualities'] = terrorism['Killed'] + terrorism['Wounded']\n",
        "terrorism[\"Casualities\"] = terrorism[\"Casualities\"].astype(int)"
      ],
      "outputs": [],
      "execution_count": null,
      "metadata": {
        "execution": {
          "iopub.execute_input": "2021-09-16T08:29:53.259593Z",
          "iopub.status.busy": "2021-09-16T08:29:53.258815Z",
          "iopub.status.idle": "2021-09-16T08:29:53.269834Z",
          "shell.execute_reply": "2021-09-16T08:29:53.270417Z",
          "shell.execute_reply.started": "2021-09-16T07:59:20.642386Z"
        },
        "papermill": {
          "duration": 0.371974,
          "end_time": "2021-09-16T08:29:53.270604",
          "exception": false,
          "start_time": "2021-09-16T08:29:52.898630",
          "status": "completed"
        },
        "tags": []
      },
      "id": "bff37f7b"
    },
    {
      "cell_type": "markdown",
      "source": [
        "# **Top Casual Countries**"
      ],
      "metadata": {
        "papermill": {
          "duration": 0.355325,
          "end_time": "2021-09-16T08:29:53.980670",
          "exception": false,
          "start_time": "2021-09-16T08:29:53.625345",
          "status": "completed"
        },
        "tags": []
      },
      "id": "4fd219f1"
    },
    {
      "cell_type": "code",
      "source": [
        "terrorism.groupby(\"Country\")[\"Casualities\"].sum().sort_values(ascending = False).head(10)"
      ],
      "outputs": [],
      "execution_count": null,
      "metadata": {
        "execution": {
          "iopub.execute_input": "2021-09-16T08:29:54.921644Z",
          "iopub.status.busy": "2021-09-16T08:29:54.920575Z",
          "iopub.status.idle": "2021-09-16T08:29:54.947124Z",
          "shell.execute_reply": "2021-09-16T08:29:54.947806Z",
          "shell.execute_reply.started": "2021-09-16T08:00:25.815154Z"
        },
        "papermill": {
          "duration": 0.611292,
          "end_time": "2021-09-16T08:29:54.948003",
          "exception": false,
          "start_time": "2021-09-16T08:29:54.336711",
          "status": "completed"
        },
        "tags": []
      },
      "id": "914e4169"
    },
    {
      "cell_type": "code",
      "source": [
        "top_casual = terrorism.groupby(\"Country\")[\"Casualities\"].sum().to_frame().reset_index().sort_values(\"Casualities\", ascending=False).head(25)\n",
        "px.bar(data_frame=top_casual , x = \"Country\" , y = 'Casualities' ,color='Country',template='plotly_dark')"
      ],
      "outputs": [],
      "execution_count": null,
      "metadata": {
        "execution": {
          "iopub.execute_input": "2021-09-16T08:29:55.688795Z",
          "iopub.status.busy": "2021-09-16T08:29:55.687789Z",
          "iopub.status.idle": "2021-09-16T08:29:55.890670Z",
          "shell.execute_reply": "2021-09-16T08:29:55.889962Z",
          "shell.execute_reply.started": "2021-09-16T08:00:43.684909Z"
        },
        "papermill": {
          "duration": 0.586615,
          "end_time": "2021-09-16T08:29:55.890814",
          "exception": false,
          "start_time": "2021-09-16T08:29:55.304199",
          "status": "completed"
        },
        "tags": []
      },
      "id": "32621992"
    },
    {
      "cell_type": "markdown",
      "source": [
        "**Again Iraq , Pakistan , Afghanistan** is the country Who suffered the most casualities."
      ],
      "metadata": {
        "papermill": {
          "duration": 0.356688,
          "end_time": "2021-09-16T08:29:56.603913",
          "exception": false,
          "start_time": "2021-09-16T08:29:56.247225",
          "status": "completed"
        },
        "tags": []
      },
      "id": "af9b2249"
    },
    {
      "cell_type": "markdown",
      "source": [
        "# Visualize top 40 Countries who faced most Casualities"
      ],
      "metadata": {
        "papermill": {
          "duration": 0.357957,
          "end_time": "2021-09-16T08:29:57.318967",
          "exception": false,
          "start_time": "2021-09-16T08:29:56.961010",
          "status": "completed"
        },
        "tags": []
      },
      "id": "b0c216a7"
    },
    {
      "cell_type": "code",
      "source": [
        "terrorism1 = terrorism.sort_values(\"Casualities\" , ascending = False).head(40)\n",
        "heat = pd.pivot_table(terrorism1 , index = \"Year\" , columns = 'Country' , values = 'Casualities')"
      ],
      "outputs": [],
      "execution_count": null,
      "metadata": {
        "execution": {
          "iopub.execute_input": "2021-09-16T08:29:58.042545Z",
          "iopub.status.busy": "2021-09-16T08:29:58.041458Z",
          "iopub.status.idle": "2021-09-16T08:29:58.093608Z",
          "shell.execute_reply": "2021-09-16T08:29:58.092991Z",
          "shell.execute_reply.started": "2021-09-16T08:02:08.543114Z"
        },
        "papermill": {
          "duration": 0.416854,
          "end_time": "2021-09-16T08:29:58.093760",
          "exception": false,
          "start_time": "2021-09-16T08:29:57.676906",
          "status": "completed"
        },
        "tags": []
      },
      "id": "25f632ec"
    },
    {
      "cell_type": "code",
      "source": [
        "import plotly.offline as py\n",
        "py.init_notebook_mode(connected=True)\n",
        "import plotly.graph_objs as go\n",
        "colorscale = [[0, '#edf8fb'], [.3, '#00BFFF'],  [.6, '#8856a7'],  [1, '#810f7c']]\n",
        "heatmap = go.Heatmap(z=heat.values, x=heat.columns, y=heat.index, colorscale=colorscale)\n",
        "data = [heatmap]\n",
        "layout = go.Layout(\n",
        "    title='Top 40 Worst Terror Attacks in History from 1982 to 2016',\n",
        "    xaxis = dict(ticks='', nticks=20),\n",
        "    yaxis = dict(ticks='')\n",
        ")\n",
        "fig = go.Figure(data=data, layout=layout)\n",
        "py.iplot(fig, filename='heatmap',show_link=False)"
      ],
      "outputs": [],
      "execution_count": null,
      "metadata": {
        "execution": {
          "iopub.execute_input": "2021-09-16T08:29:58.817035Z",
          "iopub.status.busy": "2021-09-16T08:29:58.816367Z",
          "iopub.status.idle": "2021-09-16T08:29:58.864380Z",
          "shell.execute_reply": "2021-09-16T08:29:58.864908Z",
          "shell.execute_reply.started": "2021-09-16T08:02:22.90068Z"
        },
        "papermill": {
          "duration": 0.414235,
          "end_time": "2021-09-16T08:29:58.865094",
          "exception": false,
          "start_time": "2021-09-16T08:29:58.450859",
          "status": "completed"
        },
        "tags": []
      },
      "id": "e0470f34"
    },
    {
      "cell_type": "markdown",
      "source": [
        "1. In **2001** United States Most people were killed about 9574 shown in above graph.\n",
        "1. 1n **2014** , **2015** , **2016** Iraq Faced very difficult situations.Most people were killed in Iraq compare to other Countires."
      ],
      "metadata": {
        "papermill": {
          "duration": 0.370344,
          "end_time": "2021-09-16T08:29:59.602028",
          "exception": false,
          "start_time": "2021-09-16T08:29:59.231684",
          "status": "completed"
        },
        "tags": []
      },
      "id": "ad57fd4d"
    },
    {
      "cell_type": "markdown",
      "source": [
        "# Top Terrorist Group"
      ],
      "metadata": {
        "papermill": {
          "duration": 0.363693,
          "end_time": "2021-09-16T08:30:00.333269",
          "exception": false,
          "start_time": "2021-09-16T08:29:59.969576",
          "status": "completed"
        },
        "tags": []
      },
      "id": "8c5f4eb7"
    },
    {
      "cell_type": "code",
      "source": [
        "top_terror_group = terrorism[\"Group\"].value_counts()[1:11]\n",
        "top_terror_group.plot.bar(figsize = (10,6) , title = \"Terroirst Groups Who were committing terrorism\" ,\n",
        "                          ylabel = 'No of Attacks' , xlabel = 'Groups' , color = 'orange')\n",
        "plt.show()"
      ],
      "outputs": [],
      "execution_count": null,
      "metadata": {
        "execution": {
          "iopub.execute_input": "2021-09-16T08:30:01.104572Z",
          "iopub.status.busy": "2021-09-16T08:30:01.069636Z",
          "iopub.status.idle": "2021-09-16T08:30:01.388029Z",
          "shell.execute_reply": "2021-09-16T08:30:01.387457Z",
          "shell.execute_reply.started": "2021-09-16T08:04:14.937658Z"
        },
        "papermill": {
          "duration": 0.68883,
          "end_time": "2021-09-16T08:30:01.388190",
          "exception": false,
          "start_time": "2021-09-16T08:30:00.699360",
          "status": "completed"
        },
        "tags": []
      },
      "id": "ebdffbff"
    },
    {
      "cell_type": "markdown",
      "source": [
        "**The Taliban carried out more terrorism than any other terrorist group**"
      ],
      "metadata": {
        "papermill": {
          "duration": 0.368685,
          "end_time": "2021-09-16T08:30:02.122342",
          "exception": false,
          "start_time": "2021-09-16T08:30:01.753657",
          "status": "completed"
        },
        "tags": []
      },
      "id": "6eaa70e8"
    },
    {
      "cell_type": "markdown",
      "source": [
        "# **Mostly terrorist activites of taliban group are in these countries.**"
      ],
      "metadata": {
        "papermill": {
          "duration": 0.369619,
          "end_time": "2021-09-16T08:30:02.862001",
          "exception": false,
          "start_time": "2021-09-16T08:30:02.492382",
          "status": "completed"
        },
        "tags": []
      },
      "id": "36950b2c"
    },
    {
      "cell_type": "code",
      "source": [
        "tlb_act = terrorism[terrorism[\"Group\"]==\"Taliban\"][\"Country\"].value_counts()\n",
        "tlb_act"
      ],
      "outputs": [],
      "execution_count": null,
      "metadata": {
        "execution": {
          "iopub.execute_input": "2021-09-16T08:30:03.633366Z",
          "iopub.status.busy": "2021-09-16T08:30:03.602344Z",
          "iopub.status.idle": "2021-09-16T08:30:03.645996Z",
          "shell.execute_reply": "2021-09-16T08:30:03.646534Z",
          "shell.execute_reply.started": "2021-09-16T08:05:41.985914Z"
        },
        "papermill": {
          "duration": 0.41453,
          "end_time": "2021-09-16T08:30:03.646701",
          "exception": false,
          "start_time": "2021-09-16T08:30:03.232171",
          "status": "completed"
        },
        "tags": []
      },
      "id": "e2475fd3"
    },
    {
      "cell_type": "markdown",
      "source": [
        "**Geographically Visualize terrorist activites of taliban group city wise**"
      ],
      "metadata": {
        "papermill": {
          "duration": 0.367277,
          "end_time": "2021-09-16T08:30:04.380950",
          "exception": false,
          "start_time": "2021-09-16T08:30:04.013673",
          "status": "completed"
        },
        "tags": []
      },
      "id": "d7bf377f"
    },
    {
      "cell_type": "code",
      "source": [
        "import folium\n",
        "from folium.plugins import MarkerCluster\n",
        "year=terrorism[terrorism['Group']=='Taliban']\n",
        "mapData=year.loc[:,'City':'longitude']\n",
        "mapData=mapData.values.tolist()\n",
        "\n",
        "map = folium.Map(location = [0, 50], tiles='CartoDB positron', zoom_start=2) \n",
        "# clustered marker\n",
        "markerCluster = folium.plugins.MarkerCluster().add_to(map)\n",
        "for i in range(0, len(mapData)):\n",
        "    folium.Marker(location=[mapData[i][1],mapData[i][2]],\n",
        "                  popup = mapData[i][0]).add_to(markerCluster)\n",
        "map"
      ],
      "outputs": [],
      "execution_count": null,
      "metadata": {
        "execution": {
          "iopub.execute_input": "2021-09-16T08:30:05.590838Z",
          "iopub.status.busy": "2021-09-16T08:30:05.589810Z",
          "iopub.status.idle": "2021-09-16T08:30:17.802497Z",
          "shell.execute_reply": "2021-09-16T08:30:17.803006Z",
          "shell.execute_reply.started": "2021-09-16T08:06:25.065713Z"
        },
        "papermill": {
          "duration": 13.056042,
          "end_time": "2021-09-16T08:30:17.803207",
          "exception": false,
          "start_time": "2021-09-16T08:30:04.747165",
          "status": "completed"
        },
        "tags": []
      },
      "id": "d9feef41"
    },
    {
      "cell_type": "markdown",
      "source": [
        "# **Geographically Visualize terrorist activites of top terrorist group city wise**"
      ],
      "metadata": {
        "papermill": {
          "duration": 0.50672,
          "end_time": "2021-09-16T08:30:18.844405",
          "exception": false,
          "start_time": "2021-09-16T08:30:18.337685",
          "status": "completed"
        },
        "tags": []
      },
      "id": "969aff0a"
    },
    {
      "cell_type": "code",
      "source": [
        "terr_grp = terrorism[\"Group\"].value_counts()[1:10].index.tolist()"
      ],
      "outputs": [],
      "execution_count": null,
      "metadata": {
        "execution": {
          "iopub.execute_input": "2021-09-16T08:30:19.842407Z",
          "iopub.status.busy": "2021-09-16T08:30:19.841358Z",
          "iopub.status.idle": "2021-09-16T08:30:19.873580Z",
          "shell.execute_reply": "2021-09-16T08:30:19.874113Z",
          "shell.execute_reply.started": "2021-09-16T08:07:24.47289Z"
        },
        "papermill": {
          "duration": 0.5341,
          "end_time": "2021-09-16T08:30:19.874287",
          "exception": false,
          "start_time": "2021-09-16T08:30:19.340187",
          "status": "completed"
        },
        "tags": []
      },
      "id": "5626d5cc"
    },
    {
      "cell_type": "code",
      "source": [
        "import folium\n",
        "from folium.plugins import MarkerCluster\n",
        "year=terrorism[terrorism['Group'].isin(terr_grp)]\n",
        "mapData=year.loc[:,'City':'longitude']\n",
        "mapData=mapData.values\n",
        "\n",
        "map = folium.Map(location = [0, 50], tiles='CartoDB positron', zoom_start=2) \n",
        "# clustered marker\n",
        "markerCluster = folium.plugins.MarkerCluster().add_to(map)\n",
        "for i in range(0, len(mapData)):\n",
        "    folium.Marker(location=[mapData[i][1],mapData[i][2]],\n",
        "                  popup = mapData[i][0]).add_to(markerCluster)\n",
        "map"
      ],
      "outputs": [],
      "execution_count": null,
      "metadata": {
        "execution": {
          "iopub.execute_input": "2021-09-16T08:30:20.914442Z",
          "iopub.status.busy": "2021-09-16T08:30:20.913158Z",
          "iopub.status.idle": "2021-09-16T08:31:11.584705Z",
          "shell.execute_reply": "2021-09-16T08:31:09.958821Z",
          "shell.execute_reply.started": "2021-09-16T08:07:41.221229Z"
        },
        "papermill": {
          "duration": 51.17933,
          "end_time": "2021-09-16T08:31:11.584898",
          "exception": false,
          "start_time": "2021-09-16T08:30:20.405568",
          "status": "completed"
        },
        "tags": []
      },
      "id": "2ea78321"
    },
    {
      "cell_type": "markdown",
      "source": [
        "**Conclusion**\n",
        "\n",
        "1. After analyzing this data We found out Middle East Countries like Iran, Iraq, Afghanistan and South Asia Countries like Pakistan , india Facing too much terrorism.\n",
        "\n",
        "1. Terrorist groups like taliban , Islamic State of Iraq and the Levant (ISIL) , Shining Path (SL) , New People's Army (NPA) , Al-Shabaab doing too much terrorism in these place and these place are the Hot Zone of the terrorist activites."
      ],
      "metadata": {
        "papermill": {
          "duration": 1.178588,
          "end_time": "2021-09-16T08:31:13.988212",
          "exception": false,
          "start_time": "2021-09-16T08:31:12.809624",
          "status": "completed"
        },
        "tags": []
      },
      "id": "4cf3884c"
    }
  ],
  "metadata": {
    "kernelspec": {
      "display_name": "Python 3",
      "language": "python",
      "name": "python3"
    },
    "language_info": {
      "codemirror_mode": {
        "name": "ipython",
        "version": 3
      },
      "file_extension": ".py",
      "mimetype": "text/x-python",
      "name": "python",
      "nbconvert_exporter": "python",
      "pygments_lexer": "ipython3",
      "version": "3.7.10"
    },
    "papermill": {
      "output_path": "__notebook__.ipynb",
      "default_parameters": {},
      "start_time": "2021-09-16T08:29:00.752333",
      "parameters": {},
      "environment_variables": {},
      "exception": null,
      "end_time": "2021-09-16T08:31:18.366517",
      "duration": 137.614184,
      "version": "2.3.3",
      "input_path": "__notebook__.ipynb"
    },
    "nteract": {
      "version": "0.28.0"
    }
  },
  "nbformat": 4,
  "nbformat_minor": 5
}